{
  "nbformat": 4,
  "nbformat_minor": 0,
  "metadata": {
    "colab": {
      "provenance": []
    },
    "kernelspec": {
      "name": "python3",
      "display_name": "Python 3"
    },
    "language_info": {
      "name": "python"
    },
    "accelerator": "GPU",
    "gpuClass": "standard"
  },
  "cells": [
    {
      "cell_type": "markdown",
      "source": [
        "## Ch8. 基於影像的深度學習案例"
      ],
      "metadata": {
        "id": "MG9xKPraBuo_"
      }
    },
    {
      "cell_type": "markdown",
      "source": [
        "### 訓練VGG網路 (FinetuneVGG.ipynb)於 Mnist 資料集上"
      ],
      "metadata": {
        "id": "bk03NdSAB6SG"
      }
    },
    {
      "cell_type": "code",
      "execution_count": null,
      "metadata": {
        "id": "A2EA8lC6DX_x"
      },
      "outputs": [],
      "source": [
        "import torch\n",
        "import torch.nn as nn\n",
        "from torch.autograd import Variable\n",
        "import torch.utils.data as Data\n",
        "import torchvision\n",
        "import random\n",
        "import numpy as np\n",
        "from torchvision import models\n",
        "import torch.nn.functional as F"
      ]
    },
    {
      "cell_type": "code",
      "source": [
        "EPOCH = 50\n",
        "BATCH_SIZE = 50           \n",
        "LR =0.001                 \n",
        "if_use_gpu = 1    "
      ],
      "metadata": {
        "id": "XWMpQosyDeu8"
      },
      "execution_count": null,
      "outputs": []
    },
    {
      "cell_type": "code",
      "source": [
        "class VGGNet(nn.Module):                        # 定義 VGG 網路\n",
        "    def __init__(self, num_classes=10):\t   \n",
        "        super(VGGNet, self).__init__()  \n",
        "        net = models.vgg16(pretrained=True)     # 使用預先訓練好的VGG來抽取特徵   \n",
        "        self.features = net\t\t\n",
        "        self.classifier = nn.Sequential(        # 定義線性轉換、激活函數以及輸出層\n",
        "                nn.Linear(512 * 7 * 7, 512),    \n",
        "                nn.ReLU(True),\n",
        "                nn.Dropout(),\n",
        "                nn.Linear(512, 128),\n",
        "                nn.ReLU(True),\n",
        "                nn.Dropout(),\n",
        "            nn.Linear(128, num_classes),        # 輸出的特徵長度為分類數\n",
        "                                                # 此處為10，因為 mninst 一共有 10 個數字\n",
        "        )\n",
        "\n",
        "    def forward(self, x):                       # 定義資料如何傳遞，x 表示傳入的特徵\n",
        "        x = self.features(x)                    # 使用 VGG 抽取特徵\n",
        "        x = x.view(x.size(0), -1)               # 將特徵攤平\n",
        "        x = self.classifier(x)                  # 經過幾層MLP、激活函數並輸出結果\n",
        "        return x\n",
        "\n"
      ],
      "metadata": {
        "id": "h2-gFkLGDgYf"
      },
      "execution_count": null,
      "outputs": []
    },
    {
      "cell_type": "code",
      "source": [
        "DOWNLOAD_MNIST = True                               # 定義是否要下載 Mnist 資料集\n",
        "\n",
        "train_data = torchvision.datasets.MNIST(            # 準備 Mnist 訓練集\n",
        "    root='./mnist',\n",
        "    train=True,\n",
        "    transform=torchvision.transforms.ToTensor(),    # 將資料轉換成 tensor\n",
        "    download=DOWNLOAD_MNIST\n",
        ")\n",
        "test_data = torchvision.datasets.MNIST(              # 準備 Mnist 測試集\n",
        "    root='./mnist/', \n",
        "    train=False,\n",
        "    transform=torchvision.transforms.ToTensor(),    # 將資料轉換成 tensor\n",
        "    download=DOWNLOAD_MNIST,\n",
        ")\n",
        "\n",
        "train_loader = Data.DataLoader(dataset = train_data, batch_size = BATCH_SIZE, shuffle=True)  # 定義訓練集的 dataloader\n",
        "test_loader = Data.DataLoader(dataset = test_data, batch_size = 1, shuffle=True)    # 定義測試集的 dataloader"
      ],
      "metadata": {
        "id": "MVtfn0HjDjjf"
      },
      "execution_count": null,
      "outputs": []
    },
    {
      "cell_type": "code",
      "source": [
        "vgg = VGGNet()                                              # 實例化事先定義好的網路\n",
        "optimizer = torch.optim.Adam(vgg.parameters(), lr=LR)       # 定義優化器，使用Adam作為優化器\n",
        "loss_function = nn.CrossEntropyLoss()                       # 定義損失函數，使用CrossEntropyLoss\n",
        "if if_use_gpu:                                              # 是否要使用GPU進行訓練\n",
        "    vgg = vgg.cuda()                                        # 若為是：將網路傳至GPU\n",
        "\n",
        "for epoch in range(10):                                     # 開始訓練網路\n",
        "    for step, (x, y) in enumerate(train_loader):            # 將訓練資料迭代取出\n",
        "        b_x = Variable(x, requires_grad=False)\n",
        "        b_y = Variable(y, requires_grad=False)\n",
        "        if if_use_gpu:                                      # 是否要使用GPU進行訓練\n",
        "            b_y = b_y.cuda()                                # 若為是：將訓練資料傳至GPU\n",
        "        \n",
        "        b_c = torch.zeros([BATCH_SIZE,3,28,28])             # 將單通道圖轉換成三通道圖\n",
        "        for i in range(len(b_x)):                   \n",
        "            c = torch.cat((b_x[i],b_x[i],b_x[i]),0)\n",
        "            b_c[i] = c\n",
        "        \n",
        "        b_c = F.interpolate(b_c,scale_factor=2,mode=\"bilinear\", align_corners=True) # 將輸入圖做雙線性內插\n",
        "        b_c = b_c.cuda()\n",
        "        output = vgg(b_c)                                                           # 將影像資料傳入網路中\n",
        "        loss = loss_function(output, b_y)                                           # 將網路的輸出與標準答案傳入損失函數，計算損失\n",
        "        optimizer.zero_grad()                                                       # 將優化器中的梯度設為 0\n",
        "        loss.backward()                                                             # 反向傳播計算梯度\n",
        "        optimizer.step()                                                            # 優化器進行模型參數更新\n",
        "\n",
        "        if step % 1000 == 0:                                                         # 每100steps 輸出一次train loss\n",
        "            print('Epoch:', epoch, '|step:', step, '|train loss:%.4f'%loss.data)\n",
        "\n",
        "torch.save(vgg.state_dict(), \"./vgg.pt\")                                             # 訓練完成後將模型參數存起來"
      ],
      "metadata": {
        "colab": {
          "base_uri": "https://localhost:8080/"
        },
        "id": "Slp_-2FKDrrA",
        "outputId": "99dcf9c5-b665-45df-ffdf-017e0d541525"
      },
      "execution_count": null,
      "outputs": [
        {
          "metadata": {
            "tags": null
          },
          "name": "stderr",
          "output_type": "stream",
          "text": [
            "/usr/local/lib/python3.9/dist-packages/torchvision/models/_utils.py:208: UserWarning: The parameter 'pretrained' is deprecated since 0.13 and may be removed in the future, please use 'weights' instead.\n",
            "  warnings.warn(\n",
            "/usr/local/lib/python3.9/dist-packages/torchvision/models/_utils.py:223: UserWarning: Arguments other than a weight enum or `None` for 'weights' are deprecated since 0.13 and may be removed in the future. The current behavior is equivalent to passing `weights=VGG16_Weights.IMAGENET1K_V1`. You can also use `weights=VGG16_Weights.DEFAULT` to get the most up-to-date weights.\n",
            "  warnings.warn(msg)\n"
          ]
        },
        {
          "output_type": "stream",
          "name": "stdout",
          "text": [
            "Epoch: 0 |step: 0 |train loss:2.3017\n",
            "Epoch: 0 |step: 1000 |train loss:2.2883\n",
            "Epoch: 1 |step: 0 |train loss:2.2879\n",
            "Epoch: 1 |step: 1000 |train loss:2.2923\n",
            "Epoch: 2 |step: 0 |train loss:2.3080\n",
            "Epoch: 2 |step: 1000 |train loss:2.2896\n",
            "Epoch: 3 |step: 0 |train loss:2.3106\n",
            "Epoch: 3 |step: 1000 |train loss:2.3126\n",
            "Epoch: 4 |step: 0 |train loss:2.3013\n",
            "Epoch: 4 |step: 1000 |train loss:2.2948\n",
            "Epoch: 5 |step: 0 |train loss:2.2947\n",
            "Epoch: 5 |step: 1000 |train loss:2.3157\n",
            "Epoch: 6 |step: 0 |train loss:2.3085\n",
            "Epoch: 6 |step: 1000 |train loss:2.3182\n",
            "Epoch: 7 |step: 0 |train loss:2.3056\n",
            "Epoch: 7 |step: 1000 |train loss:2.3021\n",
            "Epoch: 8 |step: 0 |train loss:2.2914\n",
            "Epoch: 8 |step: 1000 |train loss:2.2987\n",
            "Epoch: 9 |step: 0 |train loss:2.2921\n",
            "Epoch: 9 |step: 1000 |train loss:2.3061\n"
          ]
        }
      ]
    },
    {
      "cell_type": "code",
      "source": [
        "vgg = VGGNet()\n",
        "vgg.load_state_dict(torch.load(\"./vgg.pt\", map_location=\"cuda:0\"))  # 將先前訓練好的結果讀入\n",
        "if if_use_gpu:                                                      # 是否要使用GPU進行訓練\n",
        "    vgg = vgg.cuda()                                                # 若為是：將網路傳至GPU\n",
        "\n",
        "error = 0\n",
        "for step, (x, y) in enumerate(test_loader):                         # 將資料迭代產生出來\n",
        "    b_x = Variable(x, requires_grad=False)\n",
        "    b_y = Variable(y, requires_grad=False)\n",
        "    if if_use_gpu:                                                  # 是否使用GPU\n",
        "        b_x = b_x.cuda()                                            # 將測試資料移至GPU\n",
        "        b_y = b_y.cuda()      \n",
        "    \n",
        "    b_c = torch.zeros([1,3,28,28])                                  # 將單通道圖轉換成三通道圖\n",
        "    for i in range(len(b_x)):\n",
        "        c = torch.cat((b_x[i],b_x[i],b_x[i]),0)\n",
        "        b_c[i] = c\n",
        "    \n",
        "    b_c = b_c.cuda()\n",
        "    b_c = F.interpolate(b_c,scale_factor=2,mode=\"bilinear\", align_corners=True) # 將輸入圖做雙線性內插\n",
        "    \n",
        "    output = vgg(b_c)                                               # 將影像資料傳入網路中，產生預測結果\n",
        "    result = torch.argmax(output,dim=1)\n",
        "    \n",
        "    A = result.tolist()\n",
        "    B = b_y.tolist()\n",
        "    \n",
        "    if A[0] != B[0]:                                                # 計算錯誤次數\n",
        "        error+=1\n",
        "\n",
        "error_rate = error/10000                                            # 計算錯誤率及準確率\n",
        "print(\"The error rate is \", error_rate*100,\"%\")\n",
        "print(\"The accuracy rate is \", (1-error_rate)*100,\"%\")"
      ],
      "metadata": {
        "colab": {
          "base_uri": "https://localhost:8080/"
        },
        "id": "uZ9tmQa2D3Nk",
        "outputId": "a37d5adf-d122-4b04-e63d-f8300cc351c4"
      },
      "execution_count": null,
      "outputs": [
        {
          "output_type": "stream",
          "name": "stdout",
          "text": [
            "The error rate is  88.64999999999999 %\n",
            "The accuracy rate is  11.350000000000005 %\n"
          ]
        }
      ]
    },
    {
      "cell_type": "code",
      "source": [],
      "metadata": {
        "id": "ZCU2_zrMHgiZ"
      },
      "execution_count": null,
      "outputs": []
    }
  ]
}