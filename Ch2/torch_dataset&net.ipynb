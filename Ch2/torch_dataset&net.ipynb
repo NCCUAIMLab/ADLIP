{
  "nbformat": 4,
  "nbformat_minor": 0,
  "metadata": {
    "colab": {
      "provenance": []
    },
    "kernelspec": {
      "name": "python3",
      "display_name": "Python 3"
    },
    "language_info": {
      "name": "python"
    },
    "accelerator": "GPU"
  },
  "cells": [
    {
      "cell_type": "code",
      "execution_count": null,
      "metadata": {
        "id": "UQrUnRiTkFZw"
      },
      "outputs": [],
      "source": [
        "import torch\n",
        "from torch.utils.data import Dataset, DataLoader"
      ]
    },
    {
      "cell_type": "code",
      "source": [
        "class Dataset(Dataset):\n",
        "    def __init__(self):\n",
        "        self.data = torch.tensor([[1,1,1,1],[2,2,2,2],[3,3,3,3],[4,4,4,4]])\n",
        "        self.label = torch.tensor([1, 2, 3, 4])\n",
        "\n",
        "    def __getitem__(self,index):\n",
        "        return self.data[index],self.label[index]\n",
        "\n",
        "    def __len__(self):\n",
        "        return len(self.data)"
      ],
      "metadata": {
        "id": "9GYv86dfk92R"
      },
      "execution_count": null,
      "outputs": []
    },
    {
      "cell_type": "code",
      "source": [
        "dataset = Dataset()\n",
        "dataloader = DataLoader(dataset=dataset,\n",
        "                          batch_size=1, shuffle=True)"
      ],
      "metadata": {
        "id": "mTxgVdrkk_KX"
      },
      "execution_count": null,
      "outputs": []
    },
    {
      "cell_type": "code",
      "source": [
        "device = 'cuda' if torch.cuda.is_available() else 'cpu'\n",
        "print(device)\n",
        "for i,(data,label) in enumerate(dataloader):\n",
        "    data = data.to(device)\n",
        "    label = label.to(device)\n",
        "    print(data,label)"
      ],
      "metadata": {
        "colab": {
          "base_uri": "https://localhost:8080/"
        },
        "id": "xokQiw09lBMj",
        "outputId": "5db44195-f184-4e61-cc75-cfa3a4c31088"
      },
      "execution_count": null,
      "outputs": [
        {
          "output_type": "stream",
          "name": "stdout",
          "text": [
            "cuda\n",
            "tensor([[3, 3, 3, 3]], device='cuda:0') tensor([3], device='cuda:0')\n",
            "tensor([[2, 2, 2, 2]], device='cuda:0') tensor([2], device='cuda:0')\n",
            "tensor([[4, 4, 4, 4]], device='cuda:0') tensor([4], device='cuda:0')\n",
            "tensor([[1, 1, 1, 1]], device='cuda:0') tensor([1], device='cuda:0')\n"
          ]
        }
      ]
    },
    {
      "cell_type": "code",
      "source": [
        "dataloader = DataLoader(dataset=dataset,\n",
        "                          batch_size=2, shuffle=True)"
      ],
      "metadata": {
        "id": "n4g2PsGJov-c"
      },
      "execution_count": null,
      "outputs": []
    },
    {
      "cell_type": "code",
      "source": [
        "device = 'cuda' if torch.cuda.is_available() else 'cpu'\n",
        "print(device)\n",
        "for i,(data,label) in enumerate(dataloader):\n",
        "    data = data.to(device)\n",
        "    label = label.to(device)\n",
        "    print(data,label)"
      ],
      "metadata": {
        "colab": {
          "base_uri": "https://localhost:8080/"
        },
        "id": "5PA4TGt_qiN9",
        "outputId": "274a9b50-941a-4911-ca58-9569bacbffab"
      },
      "execution_count": null,
      "outputs": [
        {
          "output_type": "stream",
          "name": "stdout",
          "text": [
            "cuda\n",
            "tensor([[2, 2, 2, 2],\n",
            "        [1, 1, 1, 1]], device='cuda:0') tensor([2, 1], device='cuda:0')\n",
            "tensor([[4, 4, 4, 4],\n",
            "        [3, 3, 3, 3]], device='cuda:0') tensor([4, 3], device='cuda:0')\n"
          ]
        }
      ]
    },
    {
      "cell_type": "code",
      "source": [
        "class CustomImageDataset(Dataset):\n",
        "\tdef __init__(self, annotations_file, img_dir, transform = None, target_transform = None):\n",
        "\t\tself.img_labels = pd.read_csv(annotations_file)\n",
        "\t\tself.img_dir = img_dir\n",
        "\t\tself.transform = transform\n",
        "\t\tself.target_transform = target_transform\n",
        "\tdef __len__(self):\n",
        "\t\treturn len(self.img_labels)"
      ],
      "metadata": {
        "id": "_itAoZDJrfl8"
      },
      "execution_count": null,
      "outputs": []
    },
    {
      "cell_type": "code",
      "source": [
        "import torch\n",
        "import torch.nn as nn\n",
        "import torch.nn.functional as F\n",
        "class Net(nn.Module):\n",
        "\tdef __init__(self):\n",
        "\t\tsuper(Net, self).__init__()\n",
        "\t\tself.conv1 = nn.Conv2d(1, 6, 5)\n",
        "\t\tself.conv2 = nn.Conv2d(6, 16, 5)\n",
        "\t\tself.fc1 = nn.Linear(16 * 5 * 5, 120)  # 5*5 from image dimension\n",
        "\t\tself.fc2 = nn.Linear(120, 84)\n",
        "\t\tself.fc3 = nn.Linear(84, 10)\n",
        "def forward(self, x):\n",
        "\tx = F.max_pool2d(F.relu(self.conv1(x)), (2, 2))\n",
        "\tx = F.max_pool2d(F.relu(self.conv2(x)), 2)\n",
        "\tx = torch.flatten(x, 1) # flatten all dimensions except the batch dimension\n",
        "\tx = F.relu(self.fc1(x))\n",
        "\tx = F.relu(self.fc2(x))\n",
        "\tx = self.fc3(x)\n",
        "\treturn x\n",
        "net = Net()\n",
        "print(net)"
      ],
      "metadata": {
        "colab": {
          "base_uri": "https://localhost:8080/"
        },
        "id": "L-EIJJtBqkVt",
        "outputId": "1ef0556f-83fb-471a-be92-514d9fd7bac6"
      },
      "execution_count": null,
      "outputs": [
        {
          "output_type": "stream",
          "name": "stdout",
          "text": [
            "Net(\n",
            "  (conv1): Conv2d(1, 6, kernel_size=(5, 5), stride=(1, 1))\n",
            "  (conv2): Conv2d(6, 16, kernel_size=(5, 5), stride=(1, 1))\n",
            "  (fc1): Linear(in_features=400, out_features=120, bias=True)\n",
            "  (fc2): Linear(in_features=120, out_features=84, bias=True)\n",
            "  (fc3): Linear(in_features=84, out_features=10, bias=True)\n",
            ")\n"
          ]
        }
      ]
    },
    {
      "cell_type": "code",
      "source": [
        "from torch.utils.data import Dataset, DataLoader\n",
        "from torchvision.transforms import functional as F\n",
        "import torchvision.transforms as transforms\n",
        "from PIL import Image as Image\n",
        "import matplotlib.pyplot as plt\n",
        "import os\n",
        "\n",
        "class Dataset(Dataset):\n",
        "    def __init__(self, dir, transform=None):\n",
        "        self.dir = dir\n",
        "        self.image_list = os.listdir(dir) \n",
        "        print(self.image_list)\n",
        "        self.transform = transform\n",
        "    def __len__(self):\n",
        "        return len(self.image_list)\n",
        "\n",
        "    def __getitem__(self,index):\n",
        "        image = Image.open(os.path.join(self.dir,self.image_list[index]))\n",
        "        if self.transform:        \n",
        "            image = self.transform(image)\n",
        "        else:\n",
        "            image = F.to_tensor(image)\n",
        "\n",
        "        return image\n",
        "\n",
        "my_transform = transforms.Compose([\n",
        "    transforms.RandomCrop(400),\n",
        "    transforms.RandomHorizontalFlip(),\n",
        "    transforms.RandomRotation(20),\n",
        "    transforms.ToTensor()\n",
        "])\n",
        "\n",
        "dataset = Dataset(dir=\"./img\",transform=my_transform)\n",
        "dataloader = DataLoader(dataset=dataset,\n",
        "                          batch_size=1, shuffle=True)\n",
        "\n",
        "for epoch in range(1):\n",
        "    for i,(image) in enumerate(dataloader):\n",
        "        plt.imshow(image[0].permute(1, 2, 0))"
      ],
      "metadata": {
        "id": "q65waYcxrQAN"
      },
      "execution_count": null,
      "outputs": []
    },
    {
      "cell_type": "code",
      "source": [],
      "metadata": {
        "id": "Z4ilgoKhkK0M"
      },
      "execution_count": null,
      "outputs": []
    },
    {
      "cell_type": "code",
      "source": [],
      "metadata": {
        "id": "8C7uwZ2mkM2X"
      },
      "execution_count": null,
      "outputs": []
    },
    {
      "cell_type": "code",
      "source": [],
      "metadata": {
        "id": "cp6kIUxAkT09"
      },
      "execution_count": null,
      "outputs": []
    },
    {
      "cell_type": "code",
      "source": [],
      "metadata": {
        "id": "uWGNeS-VkW-r"
      },
      "execution_count": null,
      "outputs": []
    }
  ]
}