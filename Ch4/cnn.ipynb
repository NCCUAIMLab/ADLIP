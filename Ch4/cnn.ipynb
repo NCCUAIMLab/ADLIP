{
 "cells": [
  {
   "cell_type": "code",
   "execution_count": 1,
   "metadata": {},
   "outputs": [],
   "source": [
    "import torch\n",
    "import torch.nn as nn\n",
    "import torch.nn.functional as F"
   ]
  },
  {
   "cell_type": "code",
   "execution_count": 2,
   "metadata": {},
   "outputs": [],
   "source": [
    "ran = torch.randn(16,3,32,32)"
   ]
  },
  {
   "cell_type": "code",
   "execution_count": 3,
   "metadata": {},
   "outputs": [],
   "source": [
    "class Net(nn.Module):\n",
    "    def __init__(self):\n",
    "        super(Net, self).__init__()\n",
    "        # kernel\n",
    "        self.conv1 = nn.Conv2d(3, 32, 5,padding=2)\n",
    "        self.conv2 = nn.Conv2d(32, 64, 5,padding=2)\n",
    "        self.bn1 = nn.BatchNorm2d(64)\n",
    "        self.conv3 = nn.Conv2d(64,32,1)\n",
    "        self.conv4 = nn.Conv2d(32,32,3,padding=1)\n",
    "        self.conv5 = nn.Conv2d(32,128,1)\n",
    "        self.bn2 = nn.BatchNorm2d(128)\n",
    "        self.conv6 = nn.Conv2d(128,256,3,padding=1)\n",
    "        self.conv7 = nn.Conv2d(256,256,3,padding=1)\n",
    "        self.bn3 = nn.BatchNorm2d(256)\n",
    "        self.fc1 = nn.Linear(256, 256)  \n",
    "        self.fc2 = nn.Linear(256, 10)\n",
    "        self.Softmax = nn.Softmax(dim=1)\n",
    "\n",
    "    def forward(self, x):\n",
    "        #[3*32*32]->[32*32*32]\n",
    "        x = F.relu(self.conv1(x))\n",
    "        print(x.shape)\n",
    "        #[64*32*32]\n",
    "        x = F.relu(self.conv2(x))\n",
    "        print(x.shape)\n",
    "        #[64*16*16]\n",
    "        x = F.max_pool2d(self.bn1(x),2)\n",
    "        print('B1:',x.shape)\n",
    "        print('')\n",
    "        #[64*16*16]->[32*16*16]\n",
    "        x = F.relu(self.conv3(x))\n",
    "        print(x.shape)\n",
    "        #[32*16*16]->[32*16*16]\n",
    "        x = F.relu(self.conv4(x))\n",
    "        print(x.shape)\n",
    "        #[32*16*16]->[128*8*8]\n",
    "        x = F.max_pool2d(self.bn2(self.conv5(x)),2)\n",
    "        print('B2:',x.shape)\n",
    "        print('')\n",
    "        #[128*8*8]->[256*8*8]\n",
    "        x = F.relu(self.conv6(x))\n",
    "        print(x.shape)\n",
    "        #[256*8*8]\n",
    "        x = F.relu(self.conv7(x))\n",
    "        print(x.shape)\n",
    "        #[256*1*1]\n",
    "        x = F.adaptive_avg_pool2d(self.bn3(x),(1,1))\n",
    "        print('B3:',x.shape)\n",
    "        print('')\n",
    "        x = x.view(-1, 256)\n",
    "        print(x.shape)\n",
    "        x = self.fc1(x)\n",
    "        print(x.shape)\n",
    "        x = self.fc2(x)\n",
    "        print(x.shape)\n",
    "        x = self.Softmax(x)\n",
    "        print('B4:',x.shape)\n",
    "        return x\n",
    "model = Net()"
   ]
  },
  {
   "cell_type": "code",
   "execution_count": 4,
   "metadata": {},
   "outputs": [
    {
     "name": "stdout",
     "output_type": "stream",
     "text": [
      "torch.Size([16, 32, 32, 32])\n",
      "torch.Size([16, 64, 32, 32])\n",
      "B1: torch.Size([16, 64, 16, 16])\n",
      "\n",
      "torch.Size([16, 32, 16, 16])\n",
      "torch.Size([16, 32, 16, 16])\n",
      "B2: torch.Size([16, 128, 8, 8])\n",
      "\n",
      "torch.Size([16, 256, 8, 8])\n",
      "torch.Size([16, 256, 8, 8])\n",
      "B3: torch.Size([16, 256, 1, 1])\n",
      "\n",
      "torch.Size([16, 256])\n",
      "torch.Size([16, 256])\n",
      "torch.Size([16, 10])\n",
      "B4: torch.Size([16, 10])\n"
     ]
    },
    {
     "data": {
      "text/plain": [
       "tensor([[0.0953, 0.1023, 0.0918, 0.1051, 0.1066, 0.0978, 0.0972, 0.0988, 0.1025,\n",
       "         0.1026],\n",
       "        [0.1017, 0.1015, 0.0926, 0.0948, 0.0999, 0.1058, 0.0963, 0.0996, 0.1082,\n",
       "         0.0996],\n",
       "        [0.0943, 0.1053, 0.0975, 0.1062, 0.1045, 0.0953, 0.0903, 0.0998, 0.1024,\n",
       "         0.1043],\n",
       "        [0.0905, 0.1067, 0.1013, 0.1041, 0.1063, 0.0939, 0.0931, 0.0975, 0.1053,\n",
       "         0.1013],\n",
       "        [0.0948, 0.1101, 0.1014, 0.1037, 0.1049, 0.0953, 0.0954, 0.0998, 0.1016,\n",
       "         0.0930],\n",
       "        [0.1067, 0.1028, 0.0912, 0.1044, 0.1032, 0.0964, 0.0901, 0.0888, 0.1094,\n",
       "         0.1071],\n",
       "        [0.1034, 0.0995, 0.0916, 0.1018, 0.1034, 0.0911, 0.0953, 0.1018, 0.1082,\n",
       "         0.1038],\n",
       "        [0.0952, 0.1100, 0.0914, 0.1030, 0.1047, 0.1005, 0.0919, 0.0941, 0.1102,\n",
       "         0.0990],\n",
       "        [0.0932, 0.1003, 0.0940, 0.1057, 0.1069, 0.0966, 0.0936, 0.1019, 0.1037,\n",
       "         0.1041],\n",
       "        [0.1014, 0.0985, 0.1000, 0.1016, 0.1027, 0.0943, 0.0941, 0.0967, 0.1012,\n",
       "         0.1095],\n",
       "        [0.0912, 0.1064, 0.1016, 0.1049, 0.1012, 0.0941, 0.0932, 0.0996, 0.1063,\n",
       "         0.1014],\n",
       "        [0.0915, 0.1169, 0.0911, 0.1085, 0.0998, 0.1020, 0.1025, 0.0951, 0.1030,\n",
       "         0.0897],\n",
       "        [0.0940, 0.1033, 0.0964, 0.1072, 0.1072, 0.0920, 0.1015, 0.0988, 0.0988,\n",
       "         0.1008],\n",
       "        [0.0932, 0.1000, 0.0978, 0.1041, 0.1033, 0.0972, 0.0984, 0.1000, 0.1073,\n",
       "         0.0987],\n",
       "        [0.0924, 0.1058, 0.0971, 0.1026, 0.1003, 0.0990, 0.0980, 0.1020, 0.1049,\n",
       "         0.0979],\n",
       "        [0.0908, 0.1053, 0.0994, 0.1043, 0.1030, 0.0957, 0.0966, 0.0967, 0.1093,\n",
       "         0.0990]], grad_fn=<SoftmaxBackward>)"
      ]
     },
     "execution_count": 4,
     "metadata": {},
     "output_type": "execute_result"
    }
   ],
   "source": [
    "model(ran)"
   ]
  },
  {
   "cell_type": "code",
   "execution_count": null,
   "metadata": {},
   "outputs": [],
   "source": []
  }
 ],
 "metadata": {
  "kernelspec": {
   "display_name": "Python 3",
   "language": "python",
   "name": "python3"
  },
  "language_info": {
   "codemirror_mode": {
    "name": "ipython",
    "version": 3
   },
   "file_extension": ".py",
   "mimetype": "text/x-python",
   "name": "python",
   "nbconvert_exporter": "python",
   "pygments_lexer": "ipython3",
   "version": "3.8.5"
  }
 },
 "nbformat": 4,
 "nbformat_minor": 4
}
