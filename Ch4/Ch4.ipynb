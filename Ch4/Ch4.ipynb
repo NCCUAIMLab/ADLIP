{
  "nbformat": 4,
  "nbformat_minor": 0,
  "metadata": {
    "colab": {
      "provenance": [],
      "collapsed_sections": [
        "lyOZhbnSS8N2"
      ],
      "toc_visible": true
    },
    "kernelspec": {
      "name": "python3",
      "display_name": "Python 3"
    },
    "language_info": {
      "name": "python"
    }
  },
  "cells": [
    {
      "cell_type": "markdown",
      "source": [
        "## Ch4. 卷積神經網路"
      ],
      "metadata": {
        "id": "w3AQBdgMSvvX"
      }
    },
    {
      "cell_type": "markdown",
      "source": [
        "### 激活函數"
      ],
      "metadata": {
        "id": "lyOZhbnSS8N2"
      }
    },
    {
      "cell_type": "markdown",
      "source": [
        "#### 1. Sigmoid"
      ],
      "metadata": {
        "id": "m2TtLHmsTlm7"
      }
    },
    {
      "cell_type": "code",
      "source": [
        "import torch\n",
        "import torch.nn as nn\n",
        "\n",
        "sigmoid = nn.Sigmoid()\n",
        "input = torch.randn(5)\n",
        "print(\"Input: \", input)\n",
        "output = sigmoid(input)\n",
        "print(\"Output: \", output)"
      ],
      "metadata": {
        "colab": {
          "base_uri": "https://localhost:8080/"
        },
        "id": "Zgtd6AkrTCrK",
        "outputId": "0d635b8d-eac8-4175-e87d-2b98d18b1b55"
      },
      "execution_count": 2,
      "outputs": [
        {
          "output_type": "stream",
          "name": "stdout",
          "text": [
            "Input:  tensor([-0.6086,  0.0217,  0.1686, -0.3747, -0.1089])\n",
            "Output:  tensor([0.3524, 0.5054, 0.5421, 0.4074, 0.4728])\n"
          ]
        }
      ]
    },
    {
      "cell_type": "markdown",
      "source": [
        "#### 2. Softmax"
      ],
      "metadata": {
        "id": "dji4vIEqTqJp"
      }
    },
    {
      "cell_type": "code",
      "source": [
        "import torch\n",
        "import torch.nn as nn\n",
        "\n",
        "softmax = nn.Softmax(dim=1)\n",
        "input = torch.randn(2, 3)\n",
        "print(\"Input: \", input)\n",
        "output = softmax(input)\n",
        "print(\"Output: \", output)"
      ],
      "metadata": {
        "colab": {
          "base_uri": "https://localhost:8080/"
        },
        "id": "8BipliWkbHzv",
        "outputId": "bb3f4a56-00d7-476f-d094-1764f5aebf74"
      },
      "execution_count": 3,
      "outputs": [
        {
          "output_type": "stream",
          "name": "stdout",
          "text": [
            "Input:  tensor([[-0.3909, -0.6037,  1.1161],\n",
            "        [-0.2184,  0.3092, -0.2914]])\n",
            "Output:  tensor([[0.1582, 0.1279, 0.7139],\n",
            "        [0.2759, 0.4676, 0.2565]])\n"
          ]
        }
      ]
    },
    {
      "cell_type": "markdown",
      "source": [
        "#### 3. ReLU"
      ],
      "metadata": {
        "id": "GhClutlgTuXY"
      }
    },
    {
      "cell_type": "code",
      "source": [
        "import torch\n",
        "import torch.nn as nn\n",
        "\n",
        "relu = nn.ReLU()\n",
        "input = torch.randn(5)\n",
        "print(\"Input: \", input)\n",
        "output = relu(input)\n",
        "print(\"Output: \", output)"
      ],
      "metadata": {
        "colab": {
          "base_uri": "https://localhost:8080/"
        },
        "id": "8_XtMPUeeFJB",
        "outputId": "08ae0e9e-b3d9-4a2b-cbc1-ebfe7a31de7c"
      },
      "execution_count": 4,
      "outputs": [
        {
          "output_type": "stream",
          "name": "stdout",
          "text": [
            "Input:  tensor([-0.7295,  1.6834, -0.5297, -1.1243,  0.1721])\n",
            "Output:  tensor([0.0000, 1.6834, 0.0000, 0.0000, 0.1721])\n"
          ]
        }
      ]
    },
    {
      "cell_type": "markdown",
      "source": [
        "#### 4. Tanh"
      ],
      "metadata": {
        "id": "Fa0n7ugcTyto"
      }
    },
    {
      "cell_type": "code",
      "source": [
        "import torch\n",
        "import torch.nn as nn\n",
        "\n",
        "input = torch.randn(4)\n",
        "print(\"Input: \", input)\n",
        "output = torch.tanh(input)\n",
        "print(\"Output: \", output)"
      ],
      "metadata": {
        "colab": {
          "base_uri": "https://localhost:8080/"
        },
        "id": "_J9uV_0wgIlD",
        "outputId": "80e25371-3198-440c-9c7e-b5f04ee33bc9"
      },
      "execution_count": 5,
      "outputs": [
        {
          "output_type": "stream",
          "name": "stdout",
          "text": [
            "Input:  tensor([ 0.7157,  1.2471,  1.1991, -0.5319])\n",
            "Output:  tensor([ 0.6142,  0.8475,  0.8334, -0.4868])\n"
          ]
        }
      ]
    },
    {
      "cell_type": "markdown",
      "source": [
        "#### 5. LeakyReLU"
      ],
      "metadata": {
        "id": "RK2DrtcaT2ld"
      }
    },
    {
      "cell_type": "code",
      "source": [
        "import torch\n",
        "import torch.nn as nn\n",
        "\n",
        "leakyRelu = nn.LeakyReLU(0.1)\n",
        "input = torch.randn(2)\n",
        "print(\"Input: \", input)\n",
        "output = leakyRelu(input)\n",
        "print(\"Output: \", output)"
      ],
      "metadata": {
        "colab": {
          "base_uri": "https://localhost:8080/"
        },
        "id": "-Wn9cz8IksPI",
        "outputId": "6678d3e8-764f-4576-9ba9-28742f8be0e0"
      },
      "execution_count": 6,
      "outputs": [
        {
          "output_type": "stream",
          "name": "stdout",
          "text": [
            "Input:  tensor([1.0051, 1.3804])\n",
            "Output:  tensor([1.0051, 1.3804])\n"
          ]
        }
      ]
    },
    {
      "cell_type": "markdown",
      "source": [
        "#### 6. ELU"
      ],
      "metadata": {
        "id": "sKytrk7uT7Xj"
      }
    },
    {
      "cell_type": "code",
      "source": [
        "import torch\n",
        "import torch.nn as nn\n",
        "\n",
        "elu = nn.ELU()\n",
        "input = torch.randn(2)\n",
        "print(\"Input: \", input)\n",
        "output = elu(input)\n",
        "print(\"Output: \", output)"
      ],
      "metadata": {
        "colab": {
          "base_uri": "https://localhost:8080/"
        },
        "id": "tCCE16_LmEva",
        "outputId": "0269ca54-24a0-495f-8f17-e3105e34f2e3"
      },
      "execution_count": 7,
      "outputs": [
        {
          "output_type": "stream",
          "name": "stdout",
          "text": [
            "Input:  tensor([-1.3988,  1.1868])\n",
            "Output:  tensor([-0.7531,  1.1868])\n"
          ]
        }
      ]
    },
    {
      "cell_type": "markdown",
      "source": [
        "### 卷積神經網路於 PyTorch 之實現"
      ],
      "metadata": {
        "id": "pqKnbbN0UNiB"
      }
    },
    {
      "cell_type": "markdown",
      "source": [
        "#### 搭建一個簡單的卷積網路"
      ],
      "metadata": {
        "id": "jN1qsowvZirq"
      }
    },
    {
      "cell_type": "code",
      "execution_count": 11,
      "metadata": {
        "id": "xjGf0oXsAZ-f"
      },
      "outputs": [],
      "source": [
        "import torch\n",
        "import torch.nn as nn\n",
        "import torch.nn.functional as F\n",
        "\n",
        "class Net(nn.Module):\n",
        "\tdef __init__(self):\n",
        "\t\tsuper(Net, self).__init__() # 輸入影像維度為1 (灰階影像)，輸出維度為6，kernel size = 5\n",
        "\t\tself.conv1 = nn.Conv2d(1, 6, 5)\n",
        "\t\tself.conv2 = nn.Conv2d(6, 16, 5)\n",
        "\t\tself.fc1 = nn.Linear(16*5*5, 120)\n",
        "\t\tself.fc2 = nn.Linear(120, 84)\n",
        "\t\tself.fc3 = nn.Linear(84, 10)\n",
        " \n",
        "\tdef forward(self, x):\n",
        "\t\tx = F.max_pool2d(F.relu(self.conv1(x)), (2, 2))\n",
        "\t\tx = F.max_pool2d(F.relu(self.conv2(x)), 2)\n",
        "\t\tx = torch.flatten(x, 1)\n",
        "\t\tx = F.relu(self.fc1(x))\n",
        "\t\tx = F.relu(self.fc2(x))\n",
        "\t\tx = self.fc3(x)\n",
        "\t\treturn x\n",
        "\n",
        "net = Net()"
      ]
    },
    {
      "cell_type": "markdown",
      "source": [
        "#### 使用 nn.Sequential() 的使用\n",
        "##### 說明：可以將需要重複執行的模組打包在一起再執行前向傳播，提升搭建模型的效率"
      ],
      "metadata": {
        "id": "PsF8QsBGZG1a"
      }
    },
    {
      "cell_type": "code",
      "source": [
        "import torch\n",
        "import torch.nn as nn\n",
        "import torch.nn.functional as F\n",
        " \n",
        "class Model(nn.Module):\n",
        "\tdef __init__(self):\n",
        "\t\tsuper(Model, self).__init__()\n",
        "\t\tself.network = nn.Sequential(\n",
        "\t\t\t\tnn.Conv2d(3, 6, 5),\n",
        "\t\t\t\tnn.ReLU(),\n",
        "\t\t\t\tnn.MaxPool2d(2, 2),\n",
        "\t\t\t\tnn.Conv2d(3, 6, 5),\n",
        "\t\t\t\tnn.ReLU(),\n",
        "\t\t\t\tnn.MaxPool2d(2, 2)\n",
        "\t\t)\n",
        "\tdef forward(self, x):\n",
        "\t\tx = self.network(x)\n",
        "\t\treturn(x)\n",
        "\n",
        "model = Model()"
      ],
      "metadata": {
        "id": "tYqsHYdoAb_F"
      },
      "execution_count": 12,
      "outputs": []
    }
  ]
}